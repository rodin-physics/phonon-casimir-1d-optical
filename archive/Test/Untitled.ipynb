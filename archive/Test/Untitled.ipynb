{
 "cells": [
  {
   "cell_type": "code",
   "execution_count": 1,
   "metadata": {},
   "outputs": [
    {
     "ename": "MethodError",
     "evalue": "MethodError: no method matching Impurity(::Int64, ::Int64, ::Float64)\nClosest candidates are:\n  Impurity(::Int64, ::Int64, ::Float64, !Matched::Float64) at /Users/Gideon/Documents/Research/phononcasimir/phonon-casimir-1d-optical/src/general.jl:14\n  Impurity(::Any, ::Any, ::Any, !Matched::Any) at /Users/Gideon/Documents/Research/phononcasimir/phonon-casimir-1d-optical/src/general.jl:14",
     "output_type": "error",
     "traceback": [
      "MethodError: no method matching Impurity(::Int64, ::Int64, ::Float64)\nClosest candidates are:\n  Impurity(::Int64, ::Int64, ::Float64, !Matched::Float64) at /Users/Gideon/Documents/Research/phononcasimir/phonon-casimir-1d-optical/src/general.jl:14\n  Impurity(::Any, ::Any, ::Any, !Matched::Any) at /Users/Gideon/Documents/Research/phononcasimir/phonon-casimir-1d-optical/src/general.jl:14",
      "",
      "Stacktrace:",
      " [1] top-level scope at In[1]:8"
     ]
    }
   ],
   "source": [
    "include(\"../src/general.jl\")\n",
    "\n",
    "μ = 1.0\n",
    "M = 3.0\n",
    "N = 500\n",
    "\n",
    "T = 1e-12\n",
    "s = System([μ, 2 * μ], [Impurity(1, 1, M), Impurity(3, 2, M)], T, N)\n",
    "\n",
    "# About 3e-5 seconds\n",
    "@time modes(s.Ms, 1 / 1.2)\n",
    "\n",
    "# Same as above\n",
    "z = 1.2 + 1im * η\n",
    "@time Ξ_jl_integrand(z, s.Ms, 1.22, 1, 1)\n",
    "\n",
    "# About 1e-2 seconds\n",
    "@time Ξ_jl(z, s, 1, 2)\n",
    "\n",
    "# Should be about 4 times longer than above\n",
    "@time Ξ(z, s)\n",
    "\n",
    "# Should be close to above\n",
    "@time F_I_Integrand_T0(z, s)\n",
    "\n",
    "# Sub-second for short distances. Order of seconds for larger\n",
    "@time F_I_T0(s)\n",
    "\n",
    "# Depends on the size of the system. Order of seconds\n",
    "@time exact_FI(s)\n"
   ]
  },
  {
   "cell_type": "code",
   "execution_count": null,
   "metadata": {},
   "outputs": [],
   "source": []
  }
 ],
 "metadata": {
  "kernelspec": {
   "display_name": "Julia 1.4.0",
   "language": "julia",
   "name": "julia-1.4"
  },
  "language_info": {
   "file_extension": ".jl",
   "mimetype": "application/julia",
   "name": "julia",
   "version": "1.4.0"
  }
 },
 "nbformat": 4,
 "nbformat_minor": 4
}
