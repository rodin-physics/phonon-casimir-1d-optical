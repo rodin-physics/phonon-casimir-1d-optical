{
 "cells": [
  {
   "cell_type": "code",
   "execution_count": 15,
   "metadata": {},
   "outputs": [],
   "source": [
    "include(\"src/general.jl\");"
   ]
  },
  {
   "cell_type": "markdown",
   "metadata": {},
   "source": [
    "Say we have a diatomic system with masses $M_1 = 1, M_2 = 3$ and two mass defects with $M = 1.8$, one located in the second atom of first unit cell and another located directly adjacent, in the first atom of the second unit cell. We start with in the zero temperature limit."
   ]
  },
  {
   "cell_type": "code",
   "execution_count": 9,
   "metadata": {},
   "outputs": [
    {
     "data": {
      "text/plain": [
       "System([1.0, 3.0], Impurity[Impurity(1, 2, 1.8, 0.0), Impurity(2, 1, 1.8, 0.0)], 1.0e-5, 1000)"
      ]
     },
     "execution_count": 9,
     "metadata": {},
     "output_type": "execute_result"
    }
   ],
   "source": [
    "imp_1 = Impurity(1, 2, 1.8, 0)\n",
    "imp_2 = Impurity(2, 1, 1.8, 0)\n",
    "T = 1e-5\n",
    "N = 1000 # number of unit cells to check against exact diagonalisation\n",
    "demo_system = System([1., 3.], [imp_1, imp_2], T, N)"
   ]
  },
  {
   "cell_type": "markdown",
   "metadata": {},
   "source": [
    "In order to compute interaction energies, we also need to define single impurity and no impurity subsystems"
   ]
  },
  {
   "cell_type": "code",
   "execution_count": 10,
   "metadata": {},
   "outputs": [
    {
     "data": {
      "text/plain": [
       "System([1.0, 3.0], Impurity[], 1.0e-5, 1000)"
      ]
     },
     "execution_count": 10,
     "metadata": {},
     "output_type": "execute_result"
    }
   ],
   "source": [
    "demo_subsystem_1 = System([1., 3.], [imp_1], T, N)\n",
    "demo_subsystem_2 = System([1., 3.], [imp_2], T, N)\n",
    "demo_nullsystem = System([1., 3.], [], T, N)"
   ]
  },
  {
   "cell_type": "markdown",
   "metadata": {},
   "source": [
    "Finally we can compute interaction energy at zero temperature using F_I_T0. We can check it against exact diagonalisation using exact_F. Note that F_I_T0 already accounts for the energy of the null system, but we have to deduct that from the exact case."
   ]
  },
  {
   "cell_type": "code",
   "execution_count": 11,
   "metadata": {},
   "outputs": [
    {
     "name": "stdout",
     "output_type": "stream",
     "text": [
      "0.0019854439726528783\n",
      "  0.210806 seconds (1.58 M allocations: 199.313 MiB, 15.32% gc time)\n",
      "0.0019854439834716686\n",
      " 15.815054 seconds (341 allocations: 491.280 MiB, 0.23% gc time)\n"
     ]
    }
   ],
   "source": [
    "@time println(F_I_T0(demo_system) - F_I_T0(demo_subsystem_1) - F_I_T0(demo_subsystem_2))\n",
    "@time println(exact_F(demo_system) - exact_F(demo_subsystem_1) - exact_F(demo_subsystem_2) + exact_F(demo_nullsystem))"
   ]
  },
  {
   "cell_type": "markdown",
   "metadata": {},
   "source": [
    "For a pair of harmonic wells in the same position with $\\Delta = 1.8$, we can do the same thing. However, note that since the impurities replace the atoms, we have to specify the mass of the impurity as well. If we want there to be no mass interaction, then the mass of the impurity should be the same as the atom it replaces"
   ]
  },
  {
   "cell_type": "code",
   "execution_count": 12,
   "metadata": {},
   "outputs": [
    {
     "name": "stdout",
     "output_type": "stream",
     "text": [
      "-0.04789980828871432\n",
      "  2.160051 seconds (19.11 M allocations: 2.384 GiB, 11.95% gc time)\n",
      "-0.04748441711353735\n",
      " 18.381183 seconds (341 allocations: 491.280 MiB, 0.22% gc time)\n"
     ]
    }
   ],
   "source": [
    "imp_1 = Impurity(1, 2, 3., 1.8) # impurity replaces heavy atom\n",
    "imp_2 = Impurity(2, 1, 1., 1.8) # impurity replaces light atom\n",
    "T = 1e-5\n",
    "N = 1000 # number of unit cells to check against exact diagonalisation\n",
    "demo_system = System([1., 3.], [imp_1, imp_2], T, N)\n",
    "demo_subsystem_1 = System([1., 3.], [imp_1], T, N)\n",
    "demo_subsystem_2 = System([1., 3.], [imp_2], T, N)\n",
    "demo_nullsystem = System([1., 3.], [], T, N)\n",
    "@time println(F_I_T0(demo_system) - F_I_T0(demo_subsystem_1) - F_I_T0(demo_subsystem_2))\n",
    "@time println(exact_F(demo_system) - exact_F(demo_subsystem_1) - exact_F(demo_subsystem_2) + exact_F(demo_nullsystem))"
   ]
  },
  {
   "cell_type": "markdown",
   "metadata": {},
   "source": [
    "Finally, for finite temperature, we use the function F_I_T_Discrete. We return to the mass pair example, which can be verified by exact diagonalisation."
   ]
  },
  {
   "cell_type": "code",
   "execution_count": 14,
   "metadata": {},
   "outputs": [
    {
     "name": "stdout",
     "output_type": "stream",
     "text": [
      "0.0019853379939469007 - 4.216225235894315e-37im\n",
      " 24.236494 seconds (239.92 M allocations: 29.373 GiB, 12.58% gc time)\n",
      "0.0019853385869055273\n",
      " 18.902392 seconds (342 allocations: 491.280 MiB, 0.22% gc time)\n"
     ]
    }
   ],
   "source": [
    "imp_1 = Impurity(1, 2, 1.8, 0)\n",
    "imp_2 = Impurity(2, 1, 1.8, 0)\n",
    "T = 0.02 # finite temperature\n",
    "N = 1000 # number of unit cells to check against exact diagonalisation\n",
    "demo_system = System([1., 3.], [imp_1, imp_2], T, N)\n",
    "demo_subsystem_1 = System([1., 3.], [imp_1], T, N)\n",
    "demo_subsystem_2 = System([1., 3.], [imp_2], T, N)\n",
    "demo_nullsystem = System([1., 3.], [], T, N)\n",
    "@time println(F_I_T_Discrete(demo_system) - F_I_T_Discrete(demo_subsystem_1) - F_I_T_Discrete(demo_subsystem_2))\n",
    "@time println(exact_F(demo_system) - exact_F(demo_subsystem_1) - exact_F(demo_subsystem_2) + exact_F(demo_nullsystem))"
   ]
  }
 ],
 "metadata": {
  "kernelspec": {
   "display_name": "Julia 1.4.0",
   "language": "julia",
   "name": "julia-1.4"
  },
  "language_info": {
   "file_extension": ".jl",
   "mimetype": "application/julia",
   "name": "julia",
   "version": "1.4.0"
  }
 },
 "nbformat": 4,
 "nbformat_minor": 4
}
